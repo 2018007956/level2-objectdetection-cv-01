{
 "cells": [
  {
   "cell_type": "code",
   "execution_count": 7,
   "metadata": {},
   "outputs": [],
   "source": [
    "import os\n",
    "import subprocess\n",
    "import shutil\n",
    "from tqdm import tqdm"
   ]
  },
  {
   "cell_type": "code",
   "execution_count": 9,
   "metadata": {},
   "outputs": [],
   "source": [
    "input_folder = '/data/ephemeral/home/dataset/train_blurry'\n",
    "output_folder = '/data/ephemeral/home/dataset/train_deblur'\n",
    "os.makedirs(output_folder, exist_ok=True)"
   ]
  },
  {
   "cell_type": "markdown",
   "metadata": {},
   "source": [
    "## Deblurring"
   ]
  },
  {
   "cell_type": "code",
   "execution_count": 1,
   "metadata": {},
   "outputs": [],
   "source": [
    "# NAFNet 폴더 안에 있어야 정상 실행됨\n",
    "for file in os.listdir(input_folder):\n",
    "    input_img = os.path.join(input_folder, file)\n",
    "    output_img = os.path.join(output_folder, file)\n",
    "    command = [\n",
    "                \"python\", 'basicsr/demo.py',\n",
    "                \"-opt\", \"options/test/REDS/NAFNet-width64.yml\",\n",
    "                \"--input_path\", input_img,\n",
    "                \"--output_path\", output_img\n",
    "            ]\n",
    "    result = subprocess.run(command, capture_output=True, text=True)\n",
    "\n",
    "    print(\"STDOUT:\", result.stdout)\n",
    "    print(\"STDERR:\", result.stderr)\n",
    "\n",
    "assert len(os.listdir(input_folder)) == len(os.listdir(output_folder))"
   ]
  },
  {
   "cell_type": "markdown",
   "metadata": {},
   "source": [
    "## Add dataset"
   ]
  },
  {
   "cell_type": "code",
   "execution_count": 17,
   "metadata": {},
   "outputs": [
    {
     "name": "stderr",
     "output_type": "stream",
     "text": [
      "100%|██████████| 4883/4883 [00:05<00:00, 870.22it/s]\n",
      "100%|██████████| 1069/1069 [00:01<00:00, 711.18it/s]\n"
     ]
    }
   ],
   "source": [
    "'''\n",
    "1. dataset/train -> original_train\n",
    "2. train + deblur 덮어쓰기 -> train\n",
    "'''\n",
    "\n",
    "origin = '/data/ephemeral/home/dataset/train'\n",
    "original_train = '/data/ephemeral/home/dataset/original_train'\n",
    "os.makedirs(original_train, exist_ok=True)\n",
    "# 1. Copy origin\n",
    "for image in tqdm(os.listdir(origin)):\n",
    "    source_path = os.path.join(origin, image)\n",
    "    target_path = os.path.join(original_train, image)\n",
    "    shutil.copy2(source_path, target_path)\n",
    "# 2. Copy deblur\n",
    "for image in tqdm(os.listdir(output_folder)):\n",
    "    source_path = os.path.join(output_folder, image)\n",
    "    target_path = os.path.join(origin, image)\n",
    "    shutil.copy2(source_path, target_path)\n",
    "\n",
    "assert len(os.listdir(original_train)) == len(os.listdir(origin))"
   ]
  }
 ],
 "metadata": {
  "kernelspec": {
   "display_name": "base",
   "language": "python",
   "name": "python3"
  },
  "language_info": {
   "codemirror_mode": {
    "name": "ipython",
    "version": 3
   },
   "file_extension": ".py",
   "mimetype": "text/x-python",
   "name": "python",
   "nbconvert_exporter": "python",
   "pygments_lexer": "ipython3",
   "version": "3.10.13"
  }
 },
 "nbformat": 4,
 "nbformat_minor": 2
}
