{
 "cells": [
  {
   "cell_type": "markdown",
   "metadata": {},
   "source": [
    "## General trash dataset 폴더 생성"
   ]
  },
  {
   "cell_type": "code",
   "execution_count": 10,
   "metadata": {},
   "outputs": [],
   "source": [
    "import os\n",
    "import json\n",
    "from PIL import Image\n",
    "import matplotlib.pyplot as plt\n",
    "from collections import Counter\n",
    "from IPython.display import display\n",
    "import numpy as np"
   ]
  },
  {
   "cell_type": "code",
   "execution_count": 6,
   "metadata": {},
   "outputs": [],
   "source": [
    "\n",
    "# 기본 경로 및 폴더 이름 설정\n",
    "dataset_path = '/data/ephemeral/home/'\n",
    "dataset_name = 'general_trash_dataset'\n",
    "\n",
    "general_trash_images = 'general_images'\n",
    "\n",
    "os.makedirs(os.path.join(dataset_path, dataset_name, general_trash_images), exist_ok=True)"
   ]
  },
  {
   "cell_type": "markdown",
   "metadata": {},
   "source": [
    "## General Trash bbox crop"
   ]
  },
  {
   "cell_type": "code",
   "execution_count": 7,
   "metadata": {},
   "outputs": [
    {
     "name": "stdout",
     "output_type": "stream",
     "text": [
      "Error cropping image for annotation 5159 : cannot write empty image as JPEG\n"
     ]
    }
   ],
   "source": [
    "\n",
    "# train.json 파일 경로\n",
    "train_path = '/data/ephemeral/home/dataset/train.json'\n",
    "\n",
    "save_folder = '/data/ephemeral/home/general_trash_dataset/general_images'\n",
    "\n",
    "# json 파일 로드\n",
    "with open(train_path, 'r') as file :\n",
    "    data = json.load(file)\n",
    "\n",
    "# general_trash annotation 정보 필터링\n",
    "general_sort = [anno for anno in data['annotations'] if anno['category_id'] == 0]\n",
    "\n",
    "# images 데이터 id를 키로 하는 딕셔너리 변환\n",
    "images_dict = {image['id']: image for image in data['images']}\n",
    "\n",
    "# annotation에 대해 image crop\n",
    "for anno in general_sort :\n",
    "    image_data = images_dict[anno['image_id']]\n",
    "    image_path = '/data/ephemeral/home/dataset/' + image_data['file_name']\n",
    "\n",
    "    with Image.open(image_path) as img :\n",
    "        bbox = anno['bbox']\n",
    "        if bbox[2] <= 0 or bbox[3] <= 0:\n",
    "            print(f\"Invalid bbox size for annotation {anno['id']}. Skipping.\")\n",
    "            continue\n",
    "\n",
    "        try :\n",
    "            cropped_img = img.crop((bbox[0], bbox[1], bbox[0] + bbox[2], bbox[1] + bbox[3]))\n",
    "            cropped_img_path = os.path.join(save_folder, f\"{anno['image_id']}_{anno['id']}.jpg\")\n",
    "            cropped_img.save(cropped_img_path)\n",
    "\n",
    "        except Exception as e :\n",
    "            print(f\"Error cropping image for annotation {anno['id']} : {e}\")"
   ]
  },
  {
   "cell_type": "markdown",
   "metadata": {},
   "source": [
    "## crop된 data 갯수 확인"
   ]
  },
  {
   "cell_type": "code",
   "execution_count": 8,
   "metadata": {},
   "outputs": [
    {
     "name": "stdout",
     "output_type": "stream",
     "text": [
      "Number of image files in '/data/ephemeral/home/general_trash_dataset/general_images' : 3965\n"
     ]
    }
   ],
   "source": [
    "folder_path = '/data/ephemeral/home/general_trash_dataset/general_images'\n",
    "\n",
    "image_extensions = '.jpg'\n",
    "\n",
    "image_count = sum(1 for file in os.listdir(folder_path) if file.endswith(image_extensions))\n",
    "\n",
    "print(f\"Number of image files in '{folder_path}' : {image_count}\")\n",
    "\n",
    "# 5159번 bounding box 이미지 제외하고 전부 crop 후 저장 확인 완료\n",
    "# 5159번 이미지 바운딩박스가 거의 점처럼 찍혀있음, labeling 잘못 된 객체"
   ]
  },
  {
   "cell_type": "markdown",
   "metadata": {},
   "source": [
    "## crop 된 Image의 평균 width, height 계산"
   ]
  },
  {
   "cell_type": "code",
   "execution_count": 14,
   "metadata": {},
   "outputs": [
    {
     "name": "stdout",
     "output_type": "stream",
     "text": [
      "The most common average image size is approximately: 67.31 x 513.13\n"
     ]
    }
   ],
   "source": [
    "# 이미지 너비와 높이 데이터 저장을 위한 리스트\n",
    "widths = []\n",
    "heights = []\n",
    "\n",
    "# 폴더 내의 모든 이미지 파일에 대해 너비와 높이 계산\n",
    "for file_name in os.listdir(folder_path):\n",
    "    if file_name.endswith('.jpg'):\n",
    "        image_path = os.path.join(folder_path, file_name)\n",
    "        with Image.open(image_path) as img:\n",
    "            width, height = img.size\n",
    "            widths.append(width)\n",
    "            heights.append(height)\n",
    "\n",
    "# 너비와 높이를 10개의 범주로 나누기\n",
    "num_bins = 10\n",
    "width_bins = np.linspace(min(widths), max(widths), num_bins)\n",
    "height_bins = np.linspace(min(heights), max(heights), num_bins)\n",
    "\n",
    "# 각 범주 내에서 너비와 높이의 평균 계산\n",
    "average_widths = [np.mean([w for w in widths if w >= width_bins[i] and w < width_bins[i+1]]) for i in range(len(width_bins)-1)]\n",
    "average_heights = [np.mean([h for h in heights if h >= height_bins[i] and h < height_bins[i+1]]) for i in range(len(height_bins)-1)]\n",
    "\n",
    "# 가장 일반적인 너비와 높이 조합 찾기\n",
    "most_common_width = max(set(average_widths), key=average_widths.count)\n",
    "most_common_height = max(set(average_heights), key=average_heights.count)\n",
    "\n",
    "print(f\"The most common average image size is approximately: {most_common_width:.2f} x {most_common_height:.2f}\")"
   ]
  },
  {
   "cell_type": "markdown",
   "metadata": {},
   "source": [
    "## 평균 width x height로 이미지 리사이징"
   ]
  },
  {
   "cell_type": "code",
   "execution_count": 16,
   "metadata": {},
   "outputs": [],
   "source": [
    "def resize_image_with_aspect_ratio(image, output_size, background_color=(0, 0, 0)):\n",
    "    # 원본 이미지의 비율 계산\n",
    "    original_width, original_height = image.size\n",
    "    ratio = min(output_size[0] / original_width, output_size[1] / original_height)\n",
    "\n",
    "    # 새로운 사이즈에 맞게 이미지 리사이징\n",
    "    new_size = (int(original_width * ratio), int(original_height * ratio))\n",
    "    resized_img = image.resize(new_size, Image.Resampling.LANCZOS)\n",
    "\n",
    "    # 새 이미지 생성 및 원본 이미지 붙여넣기\n",
    "    new_img = Image.new(\"RGB\", output_size, background_color)\n",
    "    new_img.paste(resized_img, ((output_size[0] - new_size[0]) // 2, (output_size[1] - new_size[1]) // 2))\n",
    "\n",
    "    return new_img\n",
    "\n",
    "# 크롭된 이미지가 저장된 폴더 경로\n",
    "crop_folder_path = '/data/ephemeral/home/general_trash_dataset/general_images'\n",
    "\n",
    "# 리사이징된 이미지를 저장할 폴더 경로\n",
    "resize_folder_path = '/data/ephemeral/home/general_trash_dataset/general_trash_resize'\n",
    "\n",
    "# 리사이징할 사이즈 (67 x 513)\n",
    "output_size = (67, 513)\n",
    "\n",
    "# 리사이징된 이미지 저장 폴더 생성\n",
    "if not os.path.exists(resize_folder_path):\n",
    "    os.makedirs(resize_folder_path)\n",
    "\n",
    "# 폴더 내의 모든 이미지 파일에 대해 리사이징 수행\n",
    "for file_name in os.listdir(crop_folder_path):\n",
    "    if file_name.endswith('.jpg'):\n",
    "        image_path = os.path.join(crop_folder_path, file_name)\n",
    "        with Image.open(image_path) as img:\n",
    "            resized_image = resize_image_with_aspect_ratio(img, output_size)\n",
    "            resized_image.save(os.path.join(resize_folder_path, file_name))\n"
   ]
  }
 ],
 "metadata": {
  "kernelspec": {
   "display_name": "myenv",
   "language": "python",
   "name": "python3"
  },
  "language_info": {
   "codemirror_mode": {
    "name": "ipython",
    "version": 3
   },
   "file_extension": ".py",
   "mimetype": "text/x-python",
   "name": "python",
   "nbconvert_exporter": "python",
   "pygments_lexer": "ipython3",
   "version": "3.10.13"
  }
 },
 "nbformat": 4,
 "nbformat_minor": 2
}
