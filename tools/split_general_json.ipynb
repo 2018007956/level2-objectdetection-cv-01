{
 "cells": [
  {
   "cell_type": "markdown",
   "metadata": {},
   "source": [
    "## general_trash split class update"
   ]
  },
  {
   "cell_type": "code",
   "execution_count": 1,
   "metadata": {},
   "outputs": [],
   "source": [
    "import os\n",
    "import json\n",
    "import shutil"
   ]
  },
  {
   "cell_type": "code",
   "execution_count": 2,
   "metadata": {},
   "outputs": [],
   "source": [
    "# 원본 JSON 파일 복사\n",
    "original_json_file = '../../dataset/train.json'\n",
    "new_json_file = '../../dataset/train_class20.json'\n",
    "shutil.copyfile(original_json_file, new_json_file)\n",
    "\n",
    "# 복사된 JSON 파일 로드\n",
    "with open(new_json_file, 'r') as file:\n",
    "    data = json.load(file)\n",
    "\n",
    "# general_trash_dataset 폴더 내의 하위 폴더 탐색\n",
    "base_folder = '../../general_images_classified_from_original_label'\n",
    "subfolders = [f.name for f in os.scandir(base_folder) if f.is_dir()]\n",
    "\n",
    "# 각 하위 폴더를 새로운 카테고리로 추가 (단, 'etc' 폴더는 제외)\n",
    "for folder in subfolders:\n",
    "    if folder != 'etc':\n",
    "        data['categories'].append({\n",
    "            \"id\": len(data['categories']),\n",
    "            \"name\": folder,\n",
    "            \"supercategory\": \"General trash\"\n",
    "        })\n",
    "\n",
    "# annotations 업데이트\n",
    "for folder in subfolders:\n",
    "    if folder != 'etc':\n",
    "        category_id = next(item for item in data['categories'] if item[\"name\"] == folder)[\"id\"]\n",
    "        image_files = os.listdir(os.path.join(base_folder, folder))\n",
    "\n",
    "        for file in image_files:\n",
    "            # 파일명에서 image_id와 id 추출\n",
    "            parts = file.split('_')\n",
    "            image_id = int(parts[0])\n",
    "            annotation_id = int(parts[1].split('.')[0])  # 파일 확장자 제거\n",
    "\n",
    "            # annotations에서 일치하는 항목 찾기 및 category_id 업데이트\n",
    "            for annotation in data['annotations']:\n",
    "                if annotation['image_id'] == image_id and annotation['id'] == annotation_id:\n",
    "                    annotation['category_id'] = category_id\n",
    "                    break\n",
    "\n",
    "# 변경된 JSON 데이터 저장\n",
    "with open(new_json_file, 'w') as file:\n",
    "    json.dump(data, file, indent=4)"
   ]
  },
  {
   "cell_type": "markdown",
   "metadata": {},
   "source": [
    "## Merge category"
   ]
  },
  {
   "cell_type": "code",
   "execution_count": 4,
   "metadata": {},
   "outputs": [],
   "source": [
    "def merge_categories(json_file, categories_to_merge, final_category_name):\n",
    "    # JSON 파일 로드\n",
    "    with open(json_file, 'r') as file:\n",
    "        data = json.load(file)\n",
    "\n",
    "    # 합치려는 카테고리의 ID 찾기\n",
    "    category_ids = [cat['id'] for cat in data['categories'] if cat['name'] in categories_to_merge]\n",
    "\n",
    "    # 최종 카테고리의 ID (가장 작은 ID)\n",
    "    final_category_id = min(category_ids)\n",
    "\n",
    "    # annotations 업데이트\n",
    "    for annotation in data['annotations']:\n",
    "        if annotation['category_id'] in category_ids:\n",
    "            annotation['category_id'] = final_category_id\n",
    "\n",
    "    # 카테고리 업데이트: 불필요한 카테고리 제거 및 최종 카테고리 이름 변경\n",
    "    data['categories'] = [cat for cat in data['categories'] if cat['id'] not in category_ids or cat['id'] == final_category_id]\n",
    "    for cat in data['categories']:\n",
    "        if cat['id'] == final_category_id:\n",
    "            cat['name'] = final_category_name\n",
    "\n",
    "    # 변경된 JSON 데이터 저장\n",
    "    with open(json_file, 'w') as file:\n",
    "        json.dump(data, file, indent=4)\n",
    "\n",
    "# json file path\n",
    "json_file = '../../dataset/train_class20.json'\n",
    "\n",
    "# merge하고자하는 category 추가\n",
    "categories_to_merge = ['box_tape', 'paper_piece']\n",
    "\n",
    "# merge 후 최종 category name\n",
    "final_category_name = 'paper_piece'\n",
    "\n",
    "merge_categories(json_file, categories_to_merge, final_category_name)"
   ]
  }
 ],
 "metadata": {
  "kernelspec": {
   "display_name": "myenv",
   "language": "python",
   "name": "python3"
  },
  "language_info": {
   "codemirror_mode": {
    "name": "ipython",
    "version": 3
   },
   "file_extension": ".py",
   "mimetype": "text/x-python",
   "name": "python",
   "nbconvert_exporter": "python",
   "pygments_lexer": "ipython3",
   "version": "3.10.13"
  }
 },
 "nbformat": 4,
 "nbformat_minor": 2
}
